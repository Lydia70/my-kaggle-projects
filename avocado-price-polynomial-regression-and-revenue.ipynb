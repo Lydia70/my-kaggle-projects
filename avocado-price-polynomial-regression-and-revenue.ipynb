{
 "cells": [
  {
   "cell_type": "code",
   "execution_count": 1,
   "id": "collective-objective",
   "metadata": {
    "_cell_guid": "b1076dfc-b9ad-4769-8c92-a6c4dae69d19",
    "_uuid": "8f2839f25d086af736a60e9eeb907d3b93b6e0e5",
    "execution": {
     "iopub.execute_input": "2021-04-20T09:32:19.189521Z",
     "iopub.status.busy": "2021-04-20T09:32:19.188351Z",
     "iopub.status.idle": "2021-04-20T09:32:19.203642Z",
     "shell.execute_reply": "2021-04-20T09:32:19.204155Z"
    },
    "papermill": {
     "duration": 0.048836,
     "end_time": "2021-04-20T09:32:19.204432",
     "exception": false,
     "start_time": "2021-04-20T09:32:19.155596",
     "status": "completed"
    },
    "tags": []
   },
   "outputs": [
    {
     "name": "stdout",
     "output_type": "stream",
     "text": [
      "/kaggle/input/avocado-prices/avocado.csv\n"
     ]
    }
   ],
   "source": [
    "# This Python 3 environment comes with many helpful analytics libraries installed\n",
    "# It is defined by the kaggle/python Docker image: https://github.com/kaggle/docker-python\n",
    "# For example, here's several helpful packages to load\n",
    "\n",
    "import numpy as np # linear algebra\n",
    "import pandas as pd # data processing, CSV file I/O (e.g. pd.read_csv)\n",
    "\n",
    "# Input data files are available in the read-only \"../input/\" directory\n",
    "# For example, running this (by clicking run or pressing Shift+Enter) will list all files under the input directory\n",
    "\n",
    "import os\n",
    "for dirname, _, filenames in os.walk('/kaggle/input'):\n",
    "    for filename in filenames:\n",
    "        print(os.path.join(dirname, filename))\n",
    "\n",
    "# You can write up to 20GB to the current directory (/kaggle/working/) that gets preserved as output when you create a version using \"Save & Run All\" \n",
    "# You can also write temporary files to /kaggle/temp/, but they won't be saved outside of the current session"
   ]
  },
  {
   "cell_type": "code",
   "execution_count": 2,
   "id": "radical-collect",
   "metadata": {
    "execution": {
     "iopub.execute_input": "2021-04-20T09:32:19.267594Z",
     "iopub.status.busy": "2021-04-20T09:32:19.266897Z",
     "iopub.status.idle": "2021-04-20T09:32:19.350756Z",
     "shell.execute_reply": "2021-04-20T09:32:19.350063Z"
    },
    "papermill": {
     "duration": 0.117551,
     "end_time": "2021-04-20T09:32:19.350902",
     "exception": false,
     "start_time": "2021-04-20T09:32:19.233351",
     "status": "completed"
    },
    "tags": []
   },
   "outputs": [],
   "source": [
    "path = '/kaggle/input/avocado-prices/avocado.csv'\n",
    "\n",
    "df = pd.read_csv(path)"
   ]
  },
  {
   "cell_type": "code",
   "execution_count": 3,
   "id": "identical-alabama",
   "metadata": {
    "execution": {
     "iopub.execute_input": "2021-04-20T09:32:19.429617Z",
     "iopub.status.busy": "2021-04-20T09:32:19.428608Z",
     "iopub.status.idle": "2021-04-20T09:32:19.457802Z",
     "shell.execute_reply": "2021-04-20T09:32:19.457251Z"
    },
    "papermill": {
     "duration": 0.076806,
     "end_time": "2021-04-20T09:32:19.457937",
     "exception": false,
     "start_time": "2021-04-20T09:32:19.381131",
     "status": "completed"
    },
    "tags": []
   },
   "outputs": [
    {
     "data": {
      "text/html": [
       "<div>\n",
       "<style scoped>\n",
       "    .dataframe tbody tr th:only-of-type {\n",
       "        vertical-align: middle;\n",
       "    }\n",
       "\n",
       "    .dataframe tbody tr th {\n",
       "        vertical-align: top;\n",
       "    }\n",
       "\n",
       "    .dataframe thead th {\n",
       "        text-align: right;\n",
       "    }\n",
       "</style>\n",
       "<table border=\"1\" class=\"dataframe\">\n",
       "  <thead>\n",
       "    <tr style=\"text-align: right;\">\n",
       "      <th></th>\n",
       "      <th>Unnamed: 0</th>\n",
       "      <th>Date</th>\n",
       "      <th>AveragePrice</th>\n",
       "      <th>Total Volume</th>\n",
       "      <th>4046</th>\n",
       "      <th>4225</th>\n",
       "      <th>4770</th>\n",
       "      <th>Total Bags</th>\n",
       "      <th>Small Bags</th>\n",
       "      <th>Large Bags</th>\n",
       "      <th>XLarge Bags</th>\n",
       "      <th>type</th>\n",
       "      <th>year</th>\n",
       "      <th>region</th>\n",
       "    </tr>\n",
       "  </thead>\n",
       "  <tbody>\n",
       "    <tr>\n",
       "      <th>0</th>\n",
       "      <td>0</td>\n",
       "      <td>2015-12-27</td>\n",
       "      <td>1.33</td>\n",
       "      <td>64236.62</td>\n",
       "      <td>1036.74</td>\n",
       "      <td>54454.85</td>\n",
       "      <td>48.16</td>\n",
       "      <td>8696.87</td>\n",
       "      <td>8603.62</td>\n",
       "      <td>93.25</td>\n",
       "      <td>0.0</td>\n",
       "      <td>conventional</td>\n",
       "      <td>2015</td>\n",
       "      <td>Albany</td>\n",
       "    </tr>\n",
       "    <tr>\n",
       "      <th>1</th>\n",
       "      <td>1</td>\n",
       "      <td>2015-12-20</td>\n",
       "      <td>1.35</td>\n",
       "      <td>54876.98</td>\n",
       "      <td>674.28</td>\n",
       "      <td>44638.81</td>\n",
       "      <td>58.33</td>\n",
       "      <td>9505.56</td>\n",
       "      <td>9408.07</td>\n",
       "      <td>97.49</td>\n",
       "      <td>0.0</td>\n",
       "      <td>conventional</td>\n",
       "      <td>2015</td>\n",
       "      <td>Albany</td>\n",
       "    </tr>\n",
       "    <tr>\n",
       "      <th>2</th>\n",
       "      <td>2</td>\n",
       "      <td>2015-12-13</td>\n",
       "      <td>0.93</td>\n",
       "      <td>118220.22</td>\n",
       "      <td>794.70</td>\n",
       "      <td>109149.67</td>\n",
       "      <td>130.50</td>\n",
       "      <td>8145.35</td>\n",
       "      <td>8042.21</td>\n",
       "      <td>103.14</td>\n",
       "      <td>0.0</td>\n",
       "      <td>conventional</td>\n",
       "      <td>2015</td>\n",
       "      <td>Albany</td>\n",
       "    </tr>\n",
       "    <tr>\n",
       "      <th>3</th>\n",
       "      <td>3</td>\n",
       "      <td>2015-12-06</td>\n",
       "      <td>1.08</td>\n",
       "      <td>78992.15</td>\n",
       "      <td>1132.00</td>\n",
       "      <td>71976.41</td>\n",
       "      <td>72.58</td>\n",
       "      <td>5811.16</td>\n",
       "      <td>5677.40</td>\n",
       "      <td>133.76</td>\n",
       "      <td>0.0</td>\n",
       "      <td>conventional</td>\n",
       "      <td>2015</td>\n",
       "      <td>Albany</td>\n",
       "    </tr>\n",
       "    <tr>\n",
       "      <th>4</th>\n",
       "      <td>4</td>\n",
       "      <td>2015-11-29</td>\n",
       "      <td>1.28</td>\n",
       "      <td>51039.60</td>\n",
       "      <td>941.48</td>\n",
       "      <td>43838.39</td>\n",
       "      <td>75.78</td>\n",
       "      <td>6183.95</td>\n",
       "      <td>5986.26</td>\n",
       "      <td>197.69</td>\n",
       "      <td>0.0</td>\n",
       "      <td>conventional</td>\n",
       "      <td>2015</td>\n",
       "      <td>Albany</td>\n",
       "    </tr>\n",
       "  </tbody>\n",
       "</table>\n",
       "</div>"
      ],
      "text/plain": [
       "   Unnamed: 0        Date  AveragePrice  Total Volume     4046       4225  \\\n",
       "0           0  2015-12-27          1.33      64236.62  1036.74   54454.85   \n",
       "1           1  2015-12-20          1.35      54876.98   674.28   44638.81   \n",
       "2           2  2015-12-13          0.93     118220.22   794.70  109149.67   \n",
       "3           3  2015-12-06          1.08      78992.15  1132.00   71976.41   \n",
       "4           4  2015-11-29          1.28      51039.60   941.48   43838.39   \n",
       "\n",
       "     4770  Total Bags  Small Bags  Large Bags  XLarge Bags          type  \\\n",
       "0   48.16     8696.87     8603.62       93.25          0.0  conventional   \n",
       "1   58.33     9505.56     9408.07       97.49          0.0  conventional   \n",
       "2  130.50     8145.35     8042.21      103.14          0.0  conventional   \n",
       "3   72.58     5811.16     5677.40      133.76          0.0  conventional   \n",
       "4   75.78     6183.95     5986.26      197.69          0.0  conventional   \n",
       "\n",
       "   year  region  \n",
       "0  2015  Albany  \n",
       "1  2015  Albany  \n",
       "2  2015  Albany  \n",
       "3  2015  Albany  \n",
       "4  2015  Albany  "
      ]
     },
     "execution_count": 3,
     "metadata": {},
     "output_type": "execute_result"
    }
   ],
   "source": [
    "df.head(5)"
   ]
  },
  {
   "cell_type": "code",
   "execution_count": 4,
   "id": "worst-nancy",
   "metadata": {
    "execution": {
     "iopub.execute_input": "2021-04-20T09:32:19.524819Z",
     "iopub.status.busy": "2021-04-20T09:32:19.523243Z",
     "iopub.status.idle": "2021-04-20T09:32:19.528470Z",
     "shell.execute_reply": "2021-04-20T09:32:19.527819Z"
    },
    "papermill": {
     "duration": 0.041075,
     "end_time": "2021-04-20T09:32:19.528606",
     "exception": false,
     "start_time": "2021-04-20T09:32:19.487531",
     "status": "completed"
    },
    "tags": []
   },
   "outputs": [],
   "source": [
    "#dropping the column with the unnamed column\n",
    "df.drop(df[['Unnamed: 0']],axis=1,inplace=True)"
   ]
  },
  {
   "cell_type": "code",
   "execution_count": 5,
   "id": "egyptian-consideration",
   "metadata": {
    "execution": {
     "iopub.execute_input": "2021-04-20T09:32:19.592543Z",
     "iopub.status.busy": "2021-04-20T09:32:19.591736Z",
     "iopub.status.idle": "2021-04-20T09:32:20.686157Z",
     "shell.execute_reply": "2021-04-20T09:32:20.685533Z"
    },
    "papermill": {
     "duration": 1.128223,
     "end_time": "2021-04-20T09:32:20.686314",
     "exception": false,
     "start_time": "2021-04-20T09:32:19.558091",
     "status": "completed"
    },
    "tags": []
   },
   "outputs": [],
   "source": [
    "#import other packages\n",
    "import matplotlib as mpl\n",
    "import matplotlib.pyplot as plt\n",
    "import seaborn as sns"
   ]
  },
  {
   "cell_type": "code",
   "execution_count": 6,
   "id": "general-paper",
   "metadata": {
    "execution": {
     "iopub.execute_input": "2021-04-20T09:32:20.755252Z",
     "iopub.status.busy": "2021-04-20T09:32:20.750805Z",
     "iopub.status.idle": "2021-04-20T09:32:20.803875Z",
     "shell.execute_reply": "2021-04-20T09:32:20.803218Z"
    },
    "papermill": {
     "duration": 0.087813,
     "end_time": "2021-04-20T09:32:20.804029",
     "exception": false,
     "start_time": "2021-04-20T09:32:20.716216",
     "status": "completed"
    },
    "tags": []
   },
   "outputs": [
    {
     "data": {
      "text/html": [
       "<div>\n",
       "<style scoped>\n",
       "    .dataframe tbody tr th:only-of-type {\n",
       "        vertical-align: middle;\n",
       "    }\n",
       "\n",
       "    .dataframe tbody tr th {\n",
       "        vertical-align: top;\n",
       "    }\n",
       "\n",
       "    .dataframe thead th {\n",
       "        text-align: right;\n",
       "    }\n",
       "</style>\n",
       "<table border=\"1\" class=\"dataframe\">\n",
       "  <thead>\n",
       "    <tr style=\"text-align: right;\">\n",
       "      <th></th>\n",
       "      <th>AveragePrice</th>\n",
       "      <th>Total Volume</th>\n",
       "      <th>4046</th>\n",
       "      <th>4225</th>\n",
       "      <th>4770</th>\n",
       "      <th>Total Bags</th>\n",
       "      <th>Small Bags</th>\n",
       "      <th>Large Bags</th>\n",
       "      <th>XLarge Bags</th>\n",
       "      <th>year</th>\n",
       "    </tr>\n",
       "  </thead>\n",
       "  <tbody>\n",
       "    <tr>\n",
       "      <th>count</th>\n",
       "      <td>18249.000000</td>\n",
       "      <td>1.824900e+04</td>\n",
       "      <td>1.824900e+04</td>\n",
       "      <td>1.824900e+04</td>\n",
       "      <td>1.824900e+04</td>\n",
       "      <td>1.824900e+04</td>\n",
       "      <td>1.824900e+04</td>\n",
       "      <td>1.824900e+04</td>\n",
       "      <td>18249.000000</td>\n",
       "      <td>18249.000000</td>\n",
       "    </tr>\n",
       "    <tr>\n",
       "      <th>mean</th>\n",
       "      <td>1.405978</td>\n",
       "      <td>8.506440e+05</td>\n",
       "      <td>2.930084e+05</td>\n",
       "      <td>2.951546e+05</td>\n",
       "      <td>2.283974e+04</td>\n",
       "      <td>2.396392e+05</td>\n",
       "      <td>1.821947e+05</td>\n",
       "      <td>5.433809e+04</td>\n",
       "      <td>3106.426507</td>\n",
       "      <td>2016.147899</td>\n",
       "    </tr>\n",
       "    <tr>\n",
       "      <th>std</th>\n",
       "      <td>0.402677</td>\n",
       "      <td>3.453545e+06</td>\n",
       "      <td>1.264989e+06</td>\n",
       "      <td>1.204120e+06</td>\n",
       "      <td>1.074641e+05</td>\n",
       "      <td>9.862424e+05</td>\n",
       "      <td>7.461785e+05</td>\n",
       "      <td>2.439660e+05</td>\n",
       "      <td>17692.894652</td>\n",
       "      <td>0.939938</td>\n",
       "    </tr>\n",
       "    <tr>\n",
       "      <th>min</th>\n",
       "      <td>0.440000</td>\n",
       "      <td>8.456000e+01</td>\n",
       "      <td>0.000000e+00</td>\n",
       "      <td>0.000000e+00</td>\n",
       "      <td>0.000000e+00</td>\n",
       "      <td>0.000000e+00</td>\n",
       "      <td>0.000000e+00</td>\n",
       "      <td>0.000000e+00</td>\n",
       "      <td>0.000000</td>\n",
       "      <td>2015.000000</td>\n",
       "    </tr>\n",
       "    <tr>\n",
       "      <th>25%</th>\n",
       "      <td>1.100000</td>\n",
       "      <td>1.083858e+04</td>\n",
       "      <td>8.540700e+02</td>\n",
       "      <td>3.008780e+03</td>\n",
       "      <td>0.000000e+00</td>\n",
       "      <td>5.088640e+03</td>\n",
       "      <td>2.849420e+03</td>\n",
       "      <td>1.274700e+02</td>\n",
       "      <td>0.000000</td>\n",
       "      <td>2015.000000</td>\n",
       "    </tr>\n",
       "    <tr>\n",
       "      <th>50%</th>\n",
       "      <td>1.370000</td>\n",
       "      <td>1.073768e+05</td>\n",
       "      <td>8.645300e+03</td>\n",
       "      <td>2.906102e+04</td>\n",
       "      <td>1.849900e+02</td>\n",
       "      <td>3.974383e+04</td>\n",
       "      <td>2.636282e+04</td>\n",
       "      <td>2.647710e+03</td>\n",
       "      <td>0.000000</td>\n",
       "      <td>2016.000000</td>\n",
       "    </tr>\n",
       "    <tr>\n",
       "      <th>75%</th>\n",
       "      <td>1.660000</td>\n",
       "      <td>4.329623e+05</td>\n",
       "      <td>1.110202e+05</td>\n",
       "      <td>1.502069e+05</td>\n",
       "      <td>6.243420e+03</td>\n",
       "      <td>1.107834e+05</td>\n",
       "      <td>8.333767e+04</td>\n",
       "      <td>2.202925e+04</td>\n",
       "      <td>132.500000</td>\n",
       "      <td>2017.000000</td>\n",
       "    </tr>\n",
       "    <tr>\n",
       "      <th>max</th>\n",
       "      <td>3.250000</td>\n",
       "      <td>6.250565e+07</td>\n",
       "      <td>2.274362e+07</td>\n",
       "      <td>2.047057e+07</td>\n",
       "      <td>2.546439e+06</td>\n",
       "      <td>1.937313e+07</td>\n",
       "      <td>1.338459e+07</td>\n",
       "      <td>5.719097e+06</td>\n",
       "      <td>551693.650000</td>\n",
       "      <td>2018.000000</td>\n",
       "    </tr>\n",
       "  </tbody>\n",
       "</table>\n",
       "</div>"
      ],
      "text/plain": [
       "       AveragePrice  Total Volume          4046          4225          4770  \\\n",
       "count  18249.000000  1.824900e+04  1.824900e+04  1.824900e+04  1.824900e+04   \n",
       "mean       1.405978  8.506440e+05  2.930084e+05  2.951546e+05  2.283974e+04   \n",
       "std        0.402677  3.453545e+06  1.264989e+06  1.204120e+06  1.074641e+05   \n",
       "min        0.440000  8.456000e+01  0.000000e+00  0.000000e+00  0.000000e+00   \n",
       "25%        1.100000  1.083858e+04  8.540700e+02  3.008780e+03  0.000000e+00   \n",
       "50%        1.370000  1.073768e+05  8.645300e+03  2.906102e+04  1.849900e+02   \n",
       "75%        1.660000  4.329623e+05  1.110202e+05  1.502069e+05  6.243420e+03   \n",
       "max        3.250000  6.250565e+07  2.274362e+07  2.047057e+07  2.546439e+06   \n",
       "\n",
       "         Total Bags    Small Bags    Large Bags    XLarge Bags          year  \n",
       "count  1.824900e+04  1.824900e+04  1.824900e+04   18249.000000  18249.000000  \n",
       "mean   2.396392e+05  1.821947e+05  5.433809e+04    3106.426507   2016.147899  \n",
       "std    9.862424e+05  7.461785e+05  2.439660e+05   17692.894652      0.939938  \n",
       "min    0.000000e+00  0.000000e+00  0.000000e+00       0.000000   2015.000000  \n",
       "25%    5.088640e+03  2.849420e+03  1.274700e+02       0.000000   2015.000000  \n",
       "50%    3.974383e+04  2.636282e+04  2.647710e+03       0.000000   2016.000000  \n",
       "75%    1.107834e+05  8.333767e+04  2.202925e+04     132.500000   2017.000000  \n",
       "max    1.937313e+07  1.338459e+07  5.719097e+06  551693.650000   2018.000000  "
      ]
     },
     "execution_count": 6,
     "metadata": {},
     "output_type": "execute_result"
    }
   ],
   "source": [
    "df.describe()"
   ]
  },
  {
   "cell_type": "code",
   "execution_count": 7,
   "id": "discrete-nevada",
   "metadata": {
    "execution": {
     "iopub.execute_input": "2021-04-20T09:32:20.872428Z",
     "iopub.status.busy": "2021-04-20T09:32:20.871451Z",
     "iopub.status.idle": "2021-04-20T09:32:20.877470Z",
     "shell.execute_reply": "2021-04-20T09:32:20.876928Z"
    },
    "papermill": {
     "duration": 0.043422,
     "end_time": "2021-04-20T09:32:20.877608",
     "exception": false,
     "start_time": "2021-04-20T09:32:20.834186",
     "status": "completed"
    },
    "tags": []
   },
   "outputs": [
    {
     "data": {
      "text/plain": [
       "array(['Albany', 'Atlanta', 'BaltimoreWashington', 'Boise', 'Boston',\n",
       "       'BuffaloRochester', 'California', 'Charlotte', 'Chicago',\n",
       "       'CincinnatiDayton', 'Columbus', 'DallasFtWorth', 'Denver',\n",
       "       'Detroit', 'GrandRapids', 'GreatLakes', 'HarrisburgScranton',\n",
       "       'HartfordSpringfield', 'Houston', 'Indianapolis', 'Jacksonville',\n",
       "       'LasVegas', 'LosAngeles', 'Louisville', 'MiamiFtLauderdale',\n",
       "       'Midsouth', 'Nashville', 'NewOrleansMobile', 'NewYork',\n",
       "       'Northeast', 'NorthernNewEngland', 'Orlando', 'Philadelphia',\n",
       "       'PhoenixTucson', 'Pittsburgh', 'Plains', 'Portland',\n",
       "       'RaleighGreensboro', 'RichmondNorfolk', 'Roanoke', 'Sacramento',\n",
       "       'SanDiego', 'SanFrancisco', 'Seattle', 'SouthCarolina',\n",
       "       'SouthCentral', 'Southeast', 'Spokane', 'StLouis', 'Syracuse',\n",
       "       'Tampa', 'TotalUS', 'West', 'WestTexNewMexico'], dtype=object)"
      ]
     },
     "execution_count": 7,
     "metadata": {},
     "output_type": "execute_result"
    }
   ],
   "source": [
    "df.region.unique()"
   ]
  },
  {
   "cell_type": "code",
   "execution_count": 8,
   "id": "genuine-distinction",
   "metadata": {
    "execution": {
     "iopub.execute_input": "2021-04-20T09:32:20.949455Z",
     "iopub.status.busy": "2021-04-20T09:32:20.948426Z",
     "iopub.status.idle": "2021-04-20T09:32:20.955903Z",
     "shell.execute_reply": "2021-04-20T09:32:20.956460Z"
    },
    "papermill": {
     "duration": 0.04859,
     "end_time": "2021-04-20T09:32:20.956626",
     "exception": false,
     "start_time": "2021-04-20T09:32:20.908036",
     "status": "completed"
    },
    "tags": []
   },
   "outputs": [
    {
     "data": {
      "text/plain": [
       "Date            0\n",
       "AveragePrice    0\n",
       "Total Volume    0\n",
       "4046            0\n",
       "4225            0\n",
       "4770            0\n",
       "Total Bags      0\n",
       "Small Bags      0\n",
       "Large Bags      0\n",
       "XLarge Bags     0\n",
       "type            0\n",
       "year            0\n",
       "region          0\n",
       "dtype: int64"
      ]
     },
     "execution_count": 8,
     "metadata": {},
     "output_type": "execute_result"
    }
   ],
   "source": [
    "#missing values\n",
    "df.isnull().sum()"
   ]
  },
  {
   "cell_type": "markdown",
   "id": "crazy-words",
   "metadata": {
    "papermill": {
     "duration": 0.030579,
     "end_time": "2021-04-20T09:32:21.017883",
     "exception": false,
     "start_time": "2021-04-20T09:32:20.987304",
     "status": "completed"
    },
    "tags": []
   },
   "source": [
    "There are no missing values."
   ]
  },
  {
   "cell_type": "markdown",
   "id": "controlled-consistency",
   "metadata": {
    "papermill": {
     "duration": 0.03067,
     "end_time": "2021-04-20T09:32:21.079144",
     "exception": false,
     "start_time": "2021-04-20T09:32:21.048474",
     "status": "completed"
    },
    "tags": []
   },
   "source": [
    "# Data Distribution"
   ]
  },
  {
   "cell_type": "code",
   "execution_count": 9,
   "id": "behind-collapse",
   "metadata": {
    "execution": {
     "iopub.execute_input": "2021-04-20T09:32:21.146065Z",
     "iopub.status.busy": "2021-04-20T09:32:21.145073Z",
     "iopub.status.idle": "2021-04-20T09:32:21.335523Z",
     "shell.execute_reply": "2021-04-20T09:32:21.334815Z"
    },
    "papermill": {
     "duration": 0.225927,
     "end_time": "2021-04-20T09:32:21.335680",
     "exception": false,
     "start_time": "2021-04-20T09:32:21.109753",
     "status": "completed"
    },
    "tags": []
   },
   "outputs": [
    {
     "data": {
      "text/plain": [
       "<AxesSubplot:xlabel='type', ylabel='AveragePrice'>"
      ]
     },
     "execution_count": 9,
     "metadata": {},
     "output_type": "execute_result"
    },
    {
     "data": {
      "image/png": "[encoded data removed]",
      "text/plain": [
       "<Figure size 432x288 with 1 Axes>"
      ]
     },
     "metadata": {
      "needs_background": "light"
     },
     "output_type": "display_data"
    }
   ],
   "source": [
    "#average price by avocado type\n",
    "sns.boxplot(x='type',y='AveragePrice',data=df)"
   ]
  },
  {
   "cell_type": "code",
   "execution_count": 10,
   "id": "recognized-fossil",
   "metadata": {
    "execution": {
     "iopub.execute_input": "2021-04-20T09:32:21.411256Z",
     "iopub.status.busy": "2021-04-20T09:32:21.405831Z",
     "iopub.status.idle": "2021-04-20T09:32:21.588505Z",
     "shell.execute_reply": "2021-04-20T09:32:21.587886Z"
    },
    "papermill": {
     "duration": 0.22057,
     "end_time": "2021-04-20T09:32:21.588649",
     "exception": false,
     "start_time": "2021-04-20T09:32:21.368079",
     "status": "completed"
    },
    "tags": []
   },
   "outputs": [
    {
     "data": {
      "text/plain": [
       "<AxesSubplot:xlabel='year', ylabel='AveragePrice'>"
      ]
     },
     "execution_count": 10,
     "metadata": {},
     "output_type": "execute_result"
    },
    {
     "data": {
      "image/png": "[encoded data removed]",
      "text/plain": [
       "<Figure size 432x288 with 1 Axes>"
      ]
     },
     "metadata": {
      "needs_background": "light"
     },
     "output_type": "display_data"
    }
   ],
   "source": [
    "#Price by year\n",
    "sns.boxplot(x='year',y='AveragePrice',data=df)"
   ]
  },
  {
   "cell_type": "code",
   "execution_count": 11,
   "id": "selective-desperate",
   "metadata": {
    "execution": {
     "iopub.execute_input": "2021-04-20T09:32:21.682195Z",
     "iopub.status.busy": "2021-04-20T09:32:21.679438Z",
     "iopub.status.idle": "2021-04-20T09:32:21.850873Z",
     "shell.execute_reply": "2021-04-20T09:32:21.850207Z"
    },
    "papermill": {
     "duration": 0.228973,
     "end_time": "2021-04-20T09:32:21.851028",
     "exception": false,
     "start_time": "2021-04-20T09:32:21.622055",
     "status": "completed"
    },
    "tags": []
   },
   "outputs": [
    {
     "data": {
      "text/plain": [
       "<matplotlib.collections.PathCollection at 0x7ff122537450>"
      ]
     },
     "execution_count": 11,
     "metadata": {},
     "output_type": "execute_result"
    },
    {
     "data": {
      "image/png": "[encoded data removed]",
      "text/plain": [
       "<Figure size 432x288 with 1 Axes>"
      ]
     },
     "metadata": {
      "needs_background": "light"
     },
     "output_type": "display_data"
    }
   ],
   "source": [
    "#price versus sales volume\n",
    "plt.scatter(x='Total Volume',y='AveragePrice',data=df,color='red')"
   ]
  },
  {
   "cell_type": "markdown",
   "id": "moderate-purple",
   "metadata": {
    "papermill": {
     "duration": 0.034197,
     "end_time": "2021-04-20T09:32:21.919730",
     "exception": false,
     "start_time": "2021-04-20T09:32:21.885533",
     "status": "completed"
    },
    "tags": []
   },
   "source": [
    "# Avocado Sales Volume"
   ]
  },
  {
   "cell_type": "markdown",
   "id": "antique-thanks",
   "metadata": {
    "papermill": {
     "duration": 0.033973,
     "end_time": "2021-04-20T09:32:21.988905",
     "exception": false,
     "start_time": "2021-04-20T09:32:21.954932",
     "status": "completed"
    },
    "tags": []
   },
   "source": [
    "*Distribution of sales volume by PLU type and distribution of sales volume by bag size*"
   ]
  },
  {
   "cell_type": "code",
   "execution_count": 12,
   "id": "exempt-associate",
   "metadata": {
    "execution": {
     "iopub.execute_input": "2021-04-20T09:32:22.066582Z",
     "iopub.status.busy": "2021-04-20T09:32:22.065385Z",
     "iopub.status.idle": "2021-04-20T09:32:22.070556Z",
     "shell.execute_reply": "2021-04-20T09:32:22.071028Z"
    },
    "papermill": {
     "duration": 0.047888,
     "end_time": "2021-04-20T09:32:22.071207",
     "exception": false,
     "start_time": "2021-04-20T09:32:22.023319",
     "status": "completed"
    },
    "tags": []
   },
   "outputs": [],
   "source": [
    "label1 = 'PLU4046','PLU4225','PLU4770'\n",
    "label2 = 'Small Bags','Large Bags','XL Bags'\n",
    "\n",
    "PLU4046 = int(df['4046'].sum())\n",
    "PLU4225 = int(df['4225'].sum())\n",
    "PLU4770 = int(df['4770'].sum())\n",
    "\n",
    "small = int(df['Small Bags'].sum())\n",
    "large = int(df['Large Bags'].sum())\n",
    "xl = int(df['XLarge Bags'].sum())\n",
    "\n",
    "plu_count = [PLU4046,PLU4225,PLU4770]\n",
    "bags = [small,large,xl]"
   ]
  },
  {
   "cell_type": "code",
   "execution_count": 13,
   "id": "great-mexican",
   "metadata": {
    "execution": {
     "iopub.execute_input": "2021-04-20T09:32:22.161785Z",
     "iopub.status.busy": "2021-04-20T09:32:22.159696Z",
     "iopub.status.idle": "2021-04-20T09:32:22.354294Z",
     "shell.execute_reply": "2021-04-20T09:32:22.354808Z"
    },
    "papermill": {
     "duration": 0.249639,
     "end_time": "2021-04-20T09:32:22.355018",
     "exception": false,
     "start_time": "2021-04-20T09:32:22.105379",
     "status": "completed"
    },
    "tags": []
   },
   "outputs": [
    {
     "data": {
      "image/png": "[encoded data removed]",
      "text/plain": [
       "<Figure size 720x720 with 1 Axes>"
      ]
     },
     "metadata": {},
     "output_type": "display_data"
    }
   ],
   "source": [
    "#make a circle diagram\n",
    "# Creating plot \n",
    "plt.figure(figsize=(10,10))\n",
    "plt.pie(plu_count, autopct='%1.1f%%')\n",
    "plt.legend(label1, loc = \"upper right\")\n",
    "plt.tight_layout()\n",
    "plt.title(\"Avocado Total Avocados sold PLU\")\n",
    "  \n",
    "# show plot \n",
    "plt.show() "
   ]
  },
  {
   "cell_type": "markdown",
   "id": "chief-gossip",
   "metadata": {
    "papermill": {
     "duration": 0.035672,
     "end_time": "2021-04-20T09:32:22.426468",
     "exception": false,
     "start_time": "2021-04-20T09:32:22.390796",
     "status": "completed"
    },
    "tags": []
   },
   "source": [
    "Avocados of PLU4770 type have a small sales volume."
   ]
  },
  {
   "cell_type": "code",
   "execution_count": 14,
   "id": "circular-today",
   "metadata": {
    "execution": {
     "iopub.execute_input": "2021-04-20T09:32:22.501855Z",
     "iopub.status.busy": "2021-04-20T09:32:22.500937Z",
     "iopub.status.idle": "2021-04-20T09:32:22.718491Z",
     "shell.execute_reply": "2021-04-20T09:32:22.719003Z"
    },
    "papermill": {
     "duration": 0.256962,
     "end_time": "2021-04-20T09:32:22.719173",
     "exception": false,
     "start_time": "2021-04-20T09:32:22.462211",
     "status": "completed"
    },
    "tags": []
   },
   "outputs": [
    {
     "data": {
      "image/png": "[encoded data removed]",
      "text/plain": [
       "<Figure size 720x720 with 1 Axes>"
      ]
     },
     "metadata": {},
     "output_type": "display_data"
    }
   ],
   "source": [
    "#make a circle diagram\n",
    "# Creating plot \n",
    "plt.figure(figsize=(10,10))\n",
    "plt.pie(bags, autopct='%1.1f%%')\n",
    "plt.legend(label2, loc = \"upper right\")\n",
    "plt.tight_layout()\n",
    "plt.title(\"Avocado Total Avocados sold by Bag Size\")\n",
    "  \n",
    "# show plot \n",
    "plt.show() "
   ]
  },
  {
   "cell_type": "markdown",
   "id": "important-ladder",
   "metadata": {
    "papermill": {
     "duration": 0.037149,
     "end_time": "2021-04-20T09:32:22.793782",
     "exception": false,
     "start_time": "2021-04-20T09:32:22.756633",
     "status": "completed"
    },
    "tags": []
   },
   "source": [
    "Large share of small bags are sold."
   ]
  },
  {
   "cell_type": "markdown",
   "id": "presidential-indicator",
   "metadata": {
    "papermill": {
     "duration": 0.03687,
     "end_time": "2021-04-20T09:32:22.867766",
     "exception": false,
     "start_time": "2021-04-20T09:32:22.830896",
     "status": "completed"
    },
    "tags": []
   },
   "source": [
    "# Avocado Revenue "
   ]
  },
  {
   "cell_type": "code",
   "execution_count": 15,
   "id": "unexpected-lebanon",
   "metadata": {
    "execution": {
     "iopub.execute_input": "2021-04-20T09:32:22.945903Z",
     "iopub.status.busy": "2021-04-20T09:32:22.944978Z",
     "iopub.status.idle": "2021-04-20T09:32:22.974814Z",
     "shell.execute_reply": "2021-04-20T09:32:22.974242Z"
    },
    "papermill": {
     "duration": 0.070181,
     "end_time": "2021-04-20T09:32:22.974989",
     "exception": false,
     "start_time": "2021-04-20T09:32:22.904808",
     "status": "completed"
    },
    "tags": []
   },
   "outputs": [],
   "source": [
    "#Revenue each year\n",
    "df['revenue_daily'] = df['AveragePrice']*df['Total Volume']\n",
    "df['revenue_plu4046'] = df['AveragePrice']*df['4046']\n",
    "df['revenue_plu4225'] = df['AveragePrice']*df['4225']\n",
    "df['revenue_plu4770'] = df['AveragePrice']*df['4770']"
   ]
  },
  {
   "cell_type": "code",
   "execution_count": 16,
   "id": "communist-universal",
   "metadata": {
    "execution": {
     "iopub.execute_input": "2021-04-20T09:32:23.074355Z",
     "iopub.status.busy": "2021-04-20T09:32:23.073394Z",
     "iopub.status.idle": "2021-04-20T09:32:23.077188Z",
     "shell.execute_reply": "2021-04-20T09:32:23.077673Z"
    },
    "papermill": {
     "duration": 0.065491,
     "end_time": "2021-04-20T09:32:23.077835",
     "exception": false,
     "start_time": "2021-04-20T09:32:23.012344",
     "status": "completed"
    },
    "tags": []
   },
   "outputs": [
    {
     "data": {
      "text/html": [
       "<div>\n",
       "<style scoped>\n",
       "    .dataframe tbody tr th:only-of-type {\n",
       "        vertical-align: middle;\n",
       "    }\n",
       "\n",
       "    .dataframe tbody tr th {\n",
       "        vertical-align: top;\n",
       "    }\n",
       "\n",
       "    .dataframe thead th {\n",
       "        text-align: right;\n",
       "    }\n",
       "</style>\n",
       "<table border=\"1\" class=\"dataframe\">\n",
       "  <thead>\n",
       "    <tr style=\"text-align: right;\">\n",
       "      <th></th>\n",
       "      <th>Date</th>\n",
       "      <th>AveragePrice</th>\n",
       "      <th>Total Volume</th>\n",
       "      <th>4046</th>\n",
       "      <th>4225</th>\n",
       "      <th>4770</th>\n",
       "      <th>Total Bags</th>\n",
       "      <th>Small Bags</th>\n",
       "      <th>Large Bags</th>\n",
       "      <th>XLarge Bags</th>\n",
       "      <th>type</th>\n",
       "      <th>year</th>\n",
       "      <th>region</th>\n",
       "      <th>revenue_daily</th>\n",
       "      <th>revenue_plu4046</th>\n",
       "      <th>revenue_plu4225</th>\n",
       "      <th>revenue_plu4770</th>\n",
       "    </tr>\n",
       "  </thead>\n",
       "  <tbody>\n",
       "    <tr>\n",
       "      <th>0</th>\n",
       "      <td>2015-12-27</td>\n",
       "      <td>1.33</td>\n",
       "      <td>64236.62</td>\n",
       "      <td>1036.74</td>\n",
       "      <td>54454.85</td>\n",
       "      <td>48.16</td>\n",
       "      <td>8696.87</td>\n",
       "      <td>8603.62</td>\n",
       "      <td>93.25</td>\n",
       "      <td>0.0</td>\n",
       "      <td>conventional</td>\n",
       "      <td>2015</td>\n",
       "      <td>Albany</td>\n",
       "      <td>85434.7046</td>\n",
       "      <td>1378.8642</td>\n",
       "      <td>72424.9505</td>\n",
       "      <td>64.0528</td>\n",
       "    </tr>\n",
       "    <tr>\n",
       "      <th>1</th>\n",
       "      <td>2015-12-20</td>\n",
       "      <td>1.35</td>\n",
       "      <td>54876.98</td>\n",
       "      <td>674.28</td>\n",
       "      <td>44638.81</td>\n",
       "      <td>58.33</td>\n",
       "      <td>9505.56</td>\n",
       "      <td>9408.07</td>\n",
       "      <td>97.49</td>\n",
       "      <td>0.0</td>\n",
       "      <td>conventional</td>\n",
       "      <td>2015</td>\n",
       "      <td>Albany</td>\n",
       "      <td>74083.9230</td>\n",
       "      <td>910.2780</td>\n",
       "      <td>60262.3935</td>\n",
       "      <td>78.7455</td>\n",
       "    </tr>\n",
       "    <tr>\n",
       "      <th>2</th>\n",
       "      <td>2015-12-13</td>\n",
       "      <td>0.93</td>\n",
       "      <td>118220.22</td>\n",
       "      <td>794.70</td>\n",
       "      <td>109149.67</td>\n",
       "      <td>130.50</td>\n",
       "      <td>8145.35</td>\n",
       "      <td>8042.21</td>\n",
       "      <td>103.14</td>\n",
       "      <td>0.0</td>\n",
       "      <td>conventional</td>\n",
       "      <td>2015</td>\n",
       "      <td>Albany</td>\n",
       "      <td>109944.8046</td>\n",
       "      <td>739.0710</td>\n",
       "      <td>101509.1931</td>\n",
       "      <td>121.3650</td>\n",
       "    </tr>\n",
       "    <tr>\n",
       "      <th>3</th>\n",
       "      <td>2015-12-06</td>\n",
       "      <td>1.08</td>\n",
       "      <td>78992.15</td>\n",
       "      <td>1132.00</td>\n",
       "      <td>71976.41</td>\n",
       "      <td>72.58</td>\n",
       "      <td>5811.16</td>\n",
       "      <td>5677.40</td>\n",
       "      <td>133.76</td>\n",
       "      <td>0.0</td>\n",
       "      <td>conventional</td>\n",
       "      <td>2015</td>\n",
       "      <td>Albany</td>\n",
       "      <td>85311.5220</td>\n",
       "      <td>1222.5600</td>\n",
       "      <td>77734.5228</td>\n",
       "      <td>78.3864</td>\n",
       "    </tr>\n",
       "    <tr>\n",
       "      <th>4</th>\n",
       "      <td>2015-11-29</td>\n",
       "      <td>1.28</td>\n",
       "      <td>51039.60</td>\n",
       "      <td>941.48</td>\n",
       "      <td>43838.39</td>\n",
       "      <td>75.78</td>\n",
       "      <td>6183.95</td>\n",
       "      <td>5986.26</td>\n",
       "      <td>197.69</td>\n",
       "      <td>0.0</td>\n",
       "      <td>conventional</td>\n",
       "      <td>2015</td>\n",
       "      <td>Albany</td>\n",
       "      <td>65330.6880</td>\n",
       "      <td>1205.0944</td>\n",
       "      <td>56113.1392</td>\n",
       "      <td>96.9984</td>\n",
       "    </tr>\n",
       "  </tbody>\n",
       "</table>\n",
       "</div>"
      ],
      "text/plain": [
       "         Date  AveragePrice  Total Volume     4046       4225    4770  \\\n",
       "0  2015-12-27          1.33      64236.62  1036.74   54454.85   48.16   \n",
       "1  2015-12-20          1.35      54876.98   674.28   44638.81   58.33   \n",
       "2  2015-12-13          0.93     118220.22   794.70  109149.67  130.50   \n",
       "3  2015-12-06          1.08      78992.15  1132.00   71976.41   72.58   \n",
       "4  2015-11-29          1.28      51039.60   941.48   43838.39   75.78   \n",
       "\n",
       "   Total Bags  Small Bags  Large Bags  XLarge Bags          type  year  \\\n",
       "0     8696.87     8603.62       93.25          0.0  conventional  2015   \n",
       "1     9505.56     9408.07       97.49          0.0  conventional  2015   \n",
       "2     8145.35     8042.21      103.14          0.0  conventional  2015   \n",
       "3     5811.16     5677.40      133.76          0.0  conventional  2015   \n",
       "4     6183.95     5986.26      197.69          0.0  conventional  2015   \n",
       "\n",
       "   region  revenue_daily  revenue_plu4046  revenue_plu4225  revenue_plu4770  \n",
       "0  Albany     85434.7046        1378.8642       72424.9505          64.0528  \n",
       "1  Albany     74083.9230         910.2780       60262.3935          78.7455  \n",
       "2  Albany    109944.8046         739.0710      101509.1931         121.3650  \n",
       "3  Albany     85311.5220        1222.5600       77734.5228          78.3864  \n",
       "4  Albany     65330.6880        1205.0944       56113.1392          96.9984  "
      ]
     },
     "execution_count": 16,
     "metadata": {},
     "output_type": "execute_result"
    }
   ],
   "source": [
    "df.head(5)"
   ]
  },
  {
   "cell_type": "code",
   "execution_count": 17,
   "id": "funded-bowling",
   "metadata": {
    "execution": {
     "iopub.execute_input": "2021-04-20T09:32:23.158513Z",
     "iopub.status.busy": "2021-04-20T09:32:23.157571Z",
     "iopub.status.idle": "2021-04-20T09:32:30.355203Z",
     "shell.execute_reply": "2021-04-20T09:32:30.354601Z"
    },
    "papermill": {
     "duration": 7.238723,
     "end_time": "2021-04-20T09:32:30.355345",
     "exception": false,
     "start_time": "2021-04-20T09:32:23.116622",
     "status": "completed"
    },
    "tags": []
   },
   "outputs": [
    {
     "data": {
      "text/plain": [
       "<AxesSubplot:xlabel='year', ylabel='revenue_daily'>"
      ]
     },
     "execution_count": 17,
     "metadata": {},
     "output_type": "execute_result"
    },
    {
     "data": {
      "image/png": "[encoded data removed]",
      "text/plain": [
       "<Figure size 432x288 with 1 Axes>"
      ]
     },
     "metadata": {
      "needs_background": "light"
     },
     "output_type": "display_data"
    }
   ],
   "source": [
    "#Total Revenue each year\n",
    "sns.barplot(x='year', y='revenue_daily', estimator = sum, data=df)"
   ]
  },
  {
   "cell_type": "code",
   "execution_count": 18,
   "id": "suffering-completion",
   "metadata": {
    "execution": {
     "iopub.execute_input": "2021-04-20T09:32:30.441784Z",
     "iopub.status.busy": "2021-04-20T09:32:30.440864Z",
     "iopub.status.idle": "2021-04-20T09:32:37.948331Z",
     "shell.execute_reply": "2021-04-20T09:32:37.947669Z"
    },
    "papermill": {
     "duration": 7.553768,
     "end_time": "2021-04-20T09:32:37.948470",
     "exception": false,
     "start_time": "2021-04-20T09:32:30.394702",
     "status": "completed"
    },
    "tags": []
   },
   "outputs": [
    {
     "data": {
      "text/plain": [
       "<AxesSubplot:xlabel='year', ylabel='revenue_daily'>"
      ]
     },
     "execution_count": 18,
     "metadata": {},
     "output_type": "execute_result"
    },
    {
     "data": {
      "image/png": "[encoded data removed]",
      "text/plain": [
       "<Figure size 432x288 with 1 Axes>"
      ]
     },
     "metadata": {
      "needs_background": "light"
     },
     "output_type": "display_data"
    }
   ],
   "source": [
    "#Revenue by type and year\n",
    "sns.barplot(x='year', y='revenue_daily', hue='type', estimator = sum, data=df)"
   ]
  },
  {
   "cell_type": "code",
   "execution_count": 19,
   "id": "matched-sphere",
   "metadata": {
    "execution": {
     "iopub.execute_input": "2021-04-20T09:32:38.043198Z",
     "iopub.status.busy": "2021-04-20T09:32:38.035736Z",
     "iopub.status.idle": "2021-04-20T09:32:38.050232Z",
     "shell.execute_reply": "2021-04-20T09:32:38.049644Z"
    },
    "papermill": {
     "duration": 0.060954,
     "end_time": "2021-04-20T09:32:38.050384",
     "exception": false,
     "start_time": "2021-04-20T09:32:37.989430",
     "status": "completed"
    },
    "tags": []
   },
   "outputs": [
    {
     "data": {
      "text/html": [
       "<div>\n",
       "<style scoped>\n",
       "    .dataframe tbody tr th:only-of-type {\n",
       "        vertical-align: middle;\n",
       "    }\n",
       "\n",
       "    .dataframe tbody tr th {\n",
       "        vertical-align: top;\n",
       "    }\n",
       "\n",
       "    .dataframe thead th {\n",
       "        text-align: right;\n",
       "    }\n",
       "</style>\n",
       "<table border=\"1\" class=\"dataframe\">\n",
       "  <thead>\n",
       "    <tr style=\"text-align: right;\">\n",
       "      <th></th>\n",
       "      <th>year</th>\n",
       "      <th>revenue_daily</th>\n",
       "    </tr>\n",
       "  </thead>\n",
       "  <tbody>\n",
       "    <tr>\n",
       "      <th>0</th>\n",
       "      <td>2015</td>\n",
       "      <td>4.488448e+09</td>\n",
       "    </tr>\n",
       "    <tr>\n",
       "      <th>1</th>\n",
       "      <td>2016</td>\n",
       "      <td>4.997590e+09</td>\n",
       "    </tr>\n",
       "    <tr>\n",
       "      <th>2</th>\n",
       "      <td>2017</td>\n",
       "      <td>5.965750e+09</td>\n",
       "    </tr>\n",
       "    <tr>\n",
       "      <th>3</th>\n",
       "      <td>2018</td>\n",
       "      <td>1.482343e+09</td>\n",
       "    </tr>\n",
       "  </tbody>\n",
       "</table>\n",
       "</div>"
      ],
      "text/plain": [
       "   year  revenue_daily\n",
       "0  2015   4.488448e+09\n",
       "1  2016   4.997590e+09\n",
       "2  2017   5.965750e+09\n",
       "3  2018   1.482343e+09"
      ]
     },
     "execution_count": 19,
     "metadata": {},
     "output_type": "execute_result"
    }
   ],
   "source": [
    "#data barplot\n",
    "revenue_year = df.groupby(['year']).revenue_daily.sum().reset_index() \n",
    "revenue_year"
   ]
  },
  {
   "cell_type": "code",
   "execution_count": 20,
   "id": "wireless-biography",
   "metadata": {
    "execution": {
     "iopub.execute_input": "2021-04-20T09:32:38.157691Z",
     "iopub.status.busy": "2021-04-20T09:32:38.139553Z",
     "iopub.status.idle": "2021-04-20T09:32:38.281107Z",
     "shell.execute_reply": "2021-04-20T09:32:38.281568Z"
    },
    "papermill": {
     "duration": 0.189224,
     "end_time": "2021-04-20T09:32:38.281744",
     "exception": false,
     "start_time": "2021-04-20T09:32:38.092520",
     "status": "completed"
    },
    "tags": []
   },
   "outputs": [
    {
     "data": {
      "text/plain": [
       "Text(0.5, 0, 'Year')"
      ]
     },
     "execution_count": 20,
     "metadata": {},
     "output_type": "execute_result"
    },
    {
     "data": {
      "image/png": "[encoded data removed]",
      "text/plain": [
       "<Figure size 432x288 with 1 Axes>"
      ]
     },
     "metadata": {
      "needs_background": "light"
     },
     "output_type": "display_data"
    }
   ],
   "source": [
    "#Revenue by year plot\n",
    "sns.barplot(x='year', y='revenue_daily', data=revenue_year,color='blue')\n",
    "plt.title(\"Total Revenue Avocado Sales\")\n",
    "plt.ylabel(\"Revenue\")\n",
    "plt.xlabel(\"Year\")\n"
   ]
  },
  {
   "cell_type": "code",
   "execution_count": 21,
   "id": "environmental-floating",
   "metadata": {
    "execution": {
     "iopub.execute_input": "2021-04-20T09:32:38.380739Z",
     "iopub.status.busy": "2021-04-20T09:32:38.378101Z",
     "iopub.status.idle": "2021-04-20T09:32:38.402583Z",
     "shell.execute_reply": "2021-04-20T09:32:38.401983Z"
    },
    "papermill": {
     "duration": 0.076989,
     "end_time": "2021-04-20T09:32:38.402723",
     "exception": false,
     "start_time": "2021-04-20T09:32:38.325734",
     "status": "completed"
    },
    "tags": []
   },
   "outputs": [
    {
     "data": {
      "text/html": [
       "<div>\n",
       "<style scoped>\n",
       "    .dataframe tbody tr th:only-of-type {\n",
       "        vertical-align: middle;\n",
       "    }\n",
       "\n",
       "    .dataframe tbody tr th {\n",
       "        vertical-align: top;\n",
       "    }\n",
       "\n",
       "    .dataframe thead th {\n",
       "        text-align: right;\n",
       "    }\n",
       "</style>\n",
       "<table border=\"1\" class=\"dataframe\">\n",
       "  <thead>\n",
       "    <tr style=\"text-align: right;\">\n",
       "      <th></th>\n",
       "      <th>year</th>\n",
       "      <th>revenue</th>\n",
       "      <th>PLU</th>\n",
       "    </tr>\n",
       "  </thead>\n",
       "  <tbody>\n",
       "    <tr>\n",
       "      <th>0</th>\n",
       "      <td>2015</td>\n",
       "      <td>1.681794e+09</td>\n",
       "      <td>4046</td>\n",
       "    </tr>\n",
       "    <tr>\n",
       "      <th>1</th>\n",
       "      <td>2016</td>\n",
       "      <td>1.511538e+09</td>\n",
       "      <td>4046</td>\n",
       "    </tr>\n",
       "    <tr>\n",
       "      <th>2</th>\n",
       "      <td>2017</td>\n",
       "      <td>1.915786e+09</td>\n",
       "      <td>4046</td>\n",
       "    </tr>\n",
       "    <tr>\n",
       "      <th>3</th>\n",
       "      <td>2018</td>\n",
       "      <td>4.724571e+08</td>\n",
       "      <td>4046</td>\n",
       "    </tr>\n",
       "    <tr>\n",
       "      <th>0</th>\n",
       "      <td>2015</td>\n",
       "      <td>1.848692e+09</td>\n",
       "      <td>4225</td>\n",
       "    </tr>\n",
       "    <tr>\n",
       "      <th>1</th>\n",
       "      <td>2016</td>\n",
       "      <td>1.795002e+09</td>\n",
       "      <td>4225</td>\n",
       "    </tr>\n",
       "    <tr>\n",
       "      <th>2</th>\n",
       "      <td>2017</td>\n",
       "      <td>1.945466e+09</td>\n",
       "      <td>4225</td>\n",
       "    </tr>\n",
       "    <tr>\n",
       "      <th>3</th>\n",
       "      <td>2018</td>\n",
       "      <td>4.537754e+08</td>\n",
       "      <td>4225</td>\n",
       "    </tr>\n",
       "    <tr>\n",
       "      <th>0</th>\n",
       "      <td>2015</td>\n",
       "      <td>1.476446e+08</td>\n",
       "      <td>4770</td>\n",
       "    </tr>\n",
       "    <tr>\n",
       "      <th>1</th>\n",
       "      <td>2016</td>\n",
       "      <td>1.598403e+08</td>\n",
       "      <td>4770</td>\n",
       "    </tr>\n",
       "    <tr>\n",
       "      <th>2</th>\n",
       "      <td>2017</td>\n",
       "      <td>1.117737e+08</td>\n",
       "      <td>4770</td>\n",
       "    </tr>\n",
       "    <tr>\n",
       "      <th>3</th>\n",
       "      <td>2018</td>\n",
       "      <td>2.505683e+07</td>\n",
       "      <td>4770</td>\n",
       "    </tr>\n",
       "  </tbody>\n",
       "</table>\n",
       "</div>"
      ],
      "text/plain": [
       "   year       revenue   PLU\n",
       "0  2015  1.681794e+09  4046\n",
       "1  2016  1.511538e+09  4046\n",
       "2  2017  1.915786e+09  4046\n",
       "3  2018  4.724571e+08  4046\n",
       "0  2015  1.848692e+09  4225\n",
       "1  2016  1.795002e+09  4225\n",
       "2  2017  1.945466e+09  4225\n",
       "3  2018  4.537754e+08  4225\n",
       "0  2015  1.476446e+08  4770\n",
       "1  2016  1.598403e+08  4770\n",
       "2  2017  1.117737e+08  4770\n",
       "3  2018  2.505683e+07  4770"
      ]
     },
     "execution_count": 21,
     "metadata": {},
     "output_type": "execute_result"
    }
   ],
   "source": [
    "#Revenue by year and PLU\n",
    "revenue_year_plu4046 = df.groupby(['year']).revenue_plu4046.sum().reset_index() \n",
    "revenue_year_plu4225 = df.groupby(['year']).revenue_plu4225.sum().reset_index() \n",
    "revenue_year_plu4770 = df.groupby(['year']).revenue_plu4770.sum().reset_index() \n",
    "\n",
    "revenue_year_plu4046['PLU'] = \"4046\"\n",
    "revenue_year_plu4225['PLU'] = \"4225\"\n",
    "revenue_year_plu4770['PLU'] = \"4770\"\n",
    "\n",
    "revenue_year_plu4046 = revenue_year_plu4046.rename(columns={'revenue_plu4046':'revenue'})\n",
    "revenue_year_plu4225 = revenue_year_plu4225.rename(columns={'revenue_plu4225':'revenue'})\n",
    "revenue_year_plu4770 = revenue_year_plu4770.rename(columns={'revenue_plu4770':'revenue'})\n",
    "\n",
    "frames = [revenue_year_plu4046,revenue_year_plu4225,revenue_year_plu4770]\n",
    "\n",
    "results = pd.concat(frames)\n",
    "results"
   ]
  },
  {
   "cell_type": "code",
   "execution_count": 22,
   "id": "selective-lindsay",
   "metadata": {
    "execution": {
     "iopub.execute_input": "2021-04-20T09:32:38.533796Z",
     "iopub.status.busy": "2021-04-20T09:32:38.526094Z",
     "iopub.status.idle": "2021-04-20T09:32:38.731235Z",
     "shell.execute_reply": "2021-04-20T09:32:38.730507Z"
    },
    "papermill": {
     "duration": 0.281145,
     "end_time": "2021-04-20T09:32:38.731381",
     "exception": false,
     "start_time": "2021-04-20T09:32:38.450236",
     "status": "completed"
    },
    "tags": []
   },
   "outputs": [
    {
     "data": {
      "text/plain": [
       "Text(0.5, 0, 'Year')"
      ]
     },
     "execution_count": 22,
     "metadata": {},
     "output_type": "execute_result"
    },
    {
     "data": {
      "image/png": "[encoded data removed]",
      "text/plain": [
       "<Figure size 432x288 with 1 Axes>"
      ]
     },
     "metadata": {
      "needs_background": "light"
     },
     "output_type": "display_data"
    }
   ],
   "source": [
    "#Bar Plot\n",
    "sns.barplot(x='year', y='revenue', hue='PLU', data=results)\n",
    "plt.title(\"Total Revenue Avocado Sales\")\n",
    "plt.ylabel(\"Revenue\")\n",
    "plt.xlabel(\"Year\")"
   ]
  },
  {
   "cell_type": "markdown",
   "id": "overhead-ordinance",
   "metadata": {
    "papermill": {
     "duration": 0.043673,
     "end_time": "2021-04-20T09:32:38.819728",
     "exception": false,
     "start_time": "2021-04-20T09:32:38.776055",
     "status": "completed"
    },
    "tags": []
   },
   "source": [
    "# Polynomial Regression"
   ]
  },
  {
   "cell_type": "code",
   "execution_count": 23,
   "id": "exact-blogger",
   "metadata": {
    "execution": {
     "iopub.execute_input": "2021-04-20T09:32:38.923251Z",
     "iopub.status.busy": "2021-04-20T09:32:38.922571Z",
     "iopub.status.idle": "2021-04-20T09:32:39.394455Z",
     "shell.execute_reply": "2021-04-20T09:32:39.393793Z"
    },
    "papermill": {
     "duration": 0.529879,
     "end_time": "2021-04-20T09:32:39.394594",
     "exception": false,
     "start_time": "2021-04-20T09:32:38.864715",
     "status": "completed"
    },
    "tags": []
   },
   "outputs": [
    {
     "data": {
      "text/plain": [
       "[Text(0.5, 0, 'AveragePrice'),\n",
       " Text(1.5, 0, 'Total Volume'),\n",
       " Text(2.5, 0, '4046'),\n",
       " Text(3.5, 0, '4225'),\n",
       " Text(4.5, 0, '4770'),\n",
       " Text(5.5, 0, 'Total Bags'),\n",
       " Text(6.5, 0, 'Small Bags'),\n",
       " Text(7.5, 0, 'Large Bags'),\n",
       " Text(8.5, 0, 'XLarge Bags'),\n",
       " Text(9.5, 0, 'year'),\n",
       " Text(10.5, 0, 'revenue_daily'),\n",
       " Text(11.5, 0, 'revenue_plu4046'),\n",
       " Text(12.5, 0, 'revenue_plu4225'),\n",
       " Text(13.5, 0, 'revenue_plu4770')]"
      ]
     },
     "execution_count": 23,
     "metadata": {},
     "output_type": "execute_result"
    },
    {
     "data": {
      "image/png": "[encoded data removed]",
      "text/plain": [
       "<Figure size 720x720 with 2 Axes>"
      ]
     },
     "metadata": {
      "needs_background": "light"
     },
     "output_type": "display_data"
    }
   ],
   "source": [
    "#correlation of variables: correlation diagram\n",
    "fig, ax = plt.subplots(figsize=(10,10))\n",
    "corr = df.corr()\n",
    "\n",
    "ax = sns.heatmap(corr,vmin=-1, vmax=1, center=0,cmap=sns.diverging_palette(20, 220, n=200),square=True)\n",
    "\n",
    "ax.set_xticklabels(ax.get_xticklabels(),rotation=45,horizontalalignment='right')"
   ]
  },
  {
   "cell_type": "code",
   "execution_count": 24,
   "id": "official-sucking",
   "metadata": {
    "execution": {
     "iopub.execute_input": "2021-04-20T09:32:39.498900Z",
     "iopub.status.busy": "2021-04-20T09:32:39.498085Z",
     "iopub.status.idle": "2021-04-20T09:32:40.909569Z",
     "shell.execute_reply": "2021-04-20T09:32:40.908836Z"
    },
    "papermill": {
     "duration": 1.46897,
     "end_time": "2021-04-20T09:32:40.909713",
     "exception": false,
     "start_time": "2021-04-20T09:32:39.440743",
     "status": "completed"
    },
    "tags": []
   },
   "outputs": [],
   "source": [
    "#polynomial regression\n",
    "from sklearn.preprocessing import PolynomialFeatures\n",
    "from sklearn.linear_model import LinearRegression\n",
    "from sklearn.metrics import r2_score\n",
    "from sklearn.model_selection import train_test_split\n",
    "\n",
    "import statsmodels.api as sm\n",
    "\n",
    "import sklearn.pipeline as pp\n",
    "\n",
    "from sklearn import linear_model"
   ]
  },
  {
   "cell_type": "code",
   "execution_count": 25,
   "id": "enhanced-timer",
   "metadata": {
    "execution": {
     "iopub.execute_input": "2021-04-20T09:32:41.009880Z",
     "iopub.status.busy": "2021-04-20T09:32:41.008733Z",
     "iopub.status.idle": "2021-04-20T09:32:41.023866Z",
     "shell.execute_reply": "2021-04-20T09:32:41.023175Z"
    },
    "papermill": {
     "duration": 0.067897,
     "end_time": "2021-04-20T09:32:41.024027",
     "exception": false,
     "start_time": "2021-04-20T09:32:40.956130",
     "status": "completed"
    },
    "tags": []
   },
   "outputs": [
    {
     "data": {
      "text/html": [
       "<div>\n",
       "<style scoped>\n",
       "    .dataframe tbody tr th:only-of-type {\n",
       "        vertical-align: middle;\n",
       "    }\n",
       "\n",
       "    .dataframe tbody tr th {\n",
       "        vertical-align: top;\n",
       "    }\n",
       "\n",
       "    .dataframe thead th {\n",
       "        text-align: right;\n",
       "    }\n",
       "</style>\n",
       "<table border=\"1\" class=\"dataframe\">\n",
       "  <thead>\n",
       "    <tr style=\"text-align: right;\">\n",
       "      <th></th>\n",
       "      <th>AveragePrice</th>\n",
       "      <th>Total Volume</th>\n",
       "    </tr>\n",
       "  </thead>\n",
       "  <tbody>\n",
       "    <tr>\n",
       "      <th>0</th>\n",
       "      <td>1.33</td>\n",
       "      <td>64236.62</td>\n",
       "    </tr>\n",
       "    <tr>\n",
       "      <th>1</th>\n",
       "      <td>1.35</td>\n",
       "      <td>54876.98</td>\n",
       "    </tr>\n",
       "    <tr>\n",
       "      <th>2</th>\n",
       "      <td>0.93</td>\n",
       "      <td>118220.22</td>\n",
       "    </tr>\n",
       "    <tr>\n",
       "      <th>3</th>\n",
       "      <td>1.08</td>\n",
       "      <td>78992.15</td>\n",
       "    </tr>\n",
       "    <tr>\n",
       "      <th>4</th>\n",
       "      <td>1.28</td>\n",
       "      <td>51039.60</td>\n",
       "    </tr>\n",
       "  </tbody>\n",
       "</table>\n",
       "</div>"
      ],
      "text/plain": [
       "   AveragePrice  Total Volume\n",
       "0          1.33      64236.62\n",
       "1          1.35      54876.98\n",
       "2          0.93     118220.22\n",
       "3          1.08      78992.15\n",
       "4          1.28      51039.60"
      ]
     },
     "execution_count": 25,
     "metadata": {},
     "output_type": "execute_result"
    }
   ],
   "source": [
    "avocado_new = df[['AveragePrice','Total Volume']]\n",
    "avocado_new.head()"
   ]
  },
  {
   "cell_type": "markdown",
   "id": "electric-impression",
   "metadata": {
    "papermill": {
     "duration": 0.047549,
     "end_time": "2021-04-20T09:32:41.119050",
     "exception": false,
     "start_time": "2021-04-20T09:32:41.071501",
     "status": "completed"
    },
    "tags": []
   },
   "source": [
    "How are average price and volume associated?"
   ]
  },
  {
   "cell_type": "code",
   "execution_count": 26,
   "id": "hydraulic-leonard",
   "metadata": {
    "execution": {
     "iopub.execute_input": "2021-04-20T09:32:41.218335Z",
     "iopub.status.busy": "2021-04-20T09:32:41.217303Z",
     "iopub.status.idle": "2021-04-20T09:32:41.336032Z",
     "shell.execute_reply": "2021-04-20T09:32:41.335445Z"
    },
    "papermill": {
     "duration": 0.170382,
     "end_time": "2021-04-20T09:32:41.336176",
     "exception": false,
     "start_time": "2021-04-20T09:32:41.165794",
     "status": "completed"
    },
    "tags": []
   },
   "outputs": [
    {
     "name": "stderr",
     "output_type": "stream",
     "text": [
      "/opt/conda/lib/python3.7/site-packages/seaborn/_decorators.py:43: FutureWarning: Pass the following variable as a keyword arg: x. From version 0.12, the only valid positional argument will be `data`, and passing other arguments without an explicit keyword will result in an error or misinterpretation.\n",
      "  FutureWarning\n"
     ]
    },
    {
     "data": {
      "text/plain": [
       "<AxesSubplot:xlabel='AveragePrice'>"
      ]
     },
     "execution_count": 26,
     "metadata": {},
     "output_type": "execute_result"
    },
    {
     "data": {
      "image/png": "[encoded data removed]",
      "text/plain": [
       "<Figure size 432x288 with 1 Axes>"
      ]
     },
     "metadata": {
      "needs_background": "light"
     },
     "output_type": "display_data"
    }
   ],
   "source": [
    "sns.boxplot(avocado_new['AveragePrice'])"
   ]
  },
  {
   "cell_type": "code",
   "execution_count": 27,
   "id": "arbitrary-agent",
   "metadata": {
    "execution": {
     "iopub.execute_input": "2021-04-20T09:32:41.442602Z",
     "iopub.status.busy": "2021-04-20T09:32:41.441896Z",
     "iopub.status.idle": "2021-04-20T09:32:42.690156Z",
     "shell.execute_reply": "2021-04-20T09:32:42.689520Z"
    },
    "papermill": {
     "duration": 1.304627,
     "end_time": "2021-04-20T09:32:42.690294",
     "exception": false,
     "start_time": "2021-04-20T09:32:41.385667",
     "status": "completed"
    },
    "tags": []
   },
   "outputs": [
    {
     "data": {
      "text/plain": [
       "<AxesSubplot:xlabel='Total Volume', ylabel='AveragePrice'>"
      ]
     },
     "execution_count": 27,
     "metadata": {},
     "output_type": "execute_result"
    },
    {
     "data": {
      "image/png": "[encoded data removed]",
      "text/plain": [
       "<Figure size 432x288 with 1 Axes>"
      ]
     },
     "metadata": {
      "needs_background": "light"
     },
     "output_type": "display_data"
    }
   ],
   "source": [
    "#create a regplot to see the correlation\n",
    "sns.regplot(x='Total Volume',y='AveragePrice',data=avocado_new)"
   ]
  },
  {
   "cell_type": "markdown",
   "id": "covered-uzbekistan",
   "metadata": {
    "papermill": {
     "duration": 0.051911,
     "end_time": "2021-04-20T09:32:42.792991",
     "exception": false,
     "start_time": "2021-04-20T09:32:42.741080",
     "status": "completed"
    },
    "tags": []
   },
   "source": [
    "You expect a linear relationship between the variables volume and price, but the data point poorly fit a linear model."
   ]
  },
  {
   "cell_type": "code",
   "execution_count": 28,
   "id": "tribal-element",
   "metadata": {
    "execution": {
     "iopub.execute_input": "2021-04-20T09:32:42.899701Z",
     "iopub.status.busy": "2021-04-20T09:32:42.898807Z",
     "iopub.status.idle": "2021-04-20T09:32:42.902345Z",
     "shell.execute_reply": "2021-04-20T09:32:42.902788Z"
    },
    "papermill": {
     "duration": 0.058868,
     "end_time": "2021-04-20T09:32:42.902980",
     "exception": false,
     "start_time": "2021-04-20T09:32:42.844112",
     "status": "completed"
    },
    "tags": []
   },
   "outputs": [
    {
     "data": {
      "text/plain": [
       "(18249, 2)"
      ]
     },
     "execution_count": 28,
     "metadata": {},
     "output_type": "execute_result"
    }
   ],
   "source": [
    "avocado_new.shape"
   ]
  },
  {
   "cell_type": "code",
   "execution_count": 29,
   "id": "cloudy-nevada",
   "metadata": {
    "execution": {
     "iopub.execute_input": "2021-04-20T09:32:43.008907Z",
     "iopub.status.busy": "2021-04-20T09:32:43.007882Z",
     "iopub.status.idle": "2021-04-20T09:32:43.013497Z",
     "shell.execute_reply": "2021-04-20T09:32:43.013991Z"
    },
    "papermill": {
     "duration": 0.060131,
     "end_time": "2021-04-20T09:32:43.014173",
     "exception": false,
     "start_time": "2021-04-20T09:32:42.954042",
     "status": "completed"
    },
    "tags": []
   },
   "outputs": [],
   "source": [
    "feature = avocado_new[['Total Volume']]\n",
    "x= feature\n",
    "y = avocado_new['AveragePrice']"
   ]
  },
  {
   "cell_type": "code",
   "execution_count": 30,
   "id": "important-classification",
   "metadata": {
    "execution": {
     "iopub.execute_input": "2021-04-20T09:32:43.118781Z",
     "iopub.status.busy": "2021-04-20T09:32:43.117817Z",
     "iopub.status.idle": "2021-04-20T09:32:43.128588Z",
     "shell.execute_reply": "2021-04-20T09:32:43.128077Z"
    },
    "papermill": {
     "duration": 0.063977,
     "end_time": "2021-04-20T09:32:43.128718",
     "exception": false,
     "start_time": "2021-04-20T09:32:43.064741",
     "status": "completed"
    },
    "tags": []
   },
   "outputs": [
    {
     "name": "stdout",
     "output_type": "stream",
     "text": [
      "The length of the train set is: (12774, 1) (12774,)\n",
      "The lenth of the test set equals: (5475, 1) (5475,)\n"
     ]
    }
   ],
   "source": [
    "#split the data in a train and test set\n",
    "x_train, x_test, y_train, y_test = train_test_split( x, y, test_size=0.3, random_state=4)\n",
    "print ('The length of the train set is:', x_train.shape,  y_train.shape)\n",
    "print ('The lenth of the test set equals:', x_test.shape,  y_test.shape)"
   ]
  },
  {
   "cell_type": "code",
   "execution_count": 31,
   "id": "subject-sunrise",
   "metadata": {
    "execution": {
     "iopub.execute_input": "2021-04-20T09:32:43.240845Z",
     "iopub.status.busy": "2021-04-20T09:32:43.237743Z",
     "iopub.status.idle": "2021-04-20T09:32:43.244330Z",
     "shell.execute_reply": "2021-04-20T09:32:43.243639Z"
    },
    "papermill": {
     "duration": 0.065152,
     "end_time": "2021-04-20T09:32:43.244479",
     "exception": false,
     "start_time": "2021-04-20T09:32:43.179327",
     "status": "completed"
    },
    "tags": []
   },
   "outputs": [],
   "source": [
    "#Polynomial transformation to the second order\n",
    "y_poly=PolynomialFeatures(degree=2)\n",
    "x_train_poly=y_poly.fit_transform(x_train)   #this is for the training data\n",
    "x_test_poly=y_poly.fit_transform(x_test)   # this is for the test data"
   ]
  },
  {
   "cell_type": "code",
   "execution_count": 32,
   "id": "dietary-observer",
   "metadata": {
    "execution": {
     "iopub.execute_input": "2021-04-20T09:32:43.353230Z",
     "iopub.status.busy": "2021-04-20T09:32:43.352574Z",
     "iopub.status.idle": "2021-04-20T09:32:43.382839Z",
     "shell.execute_reply": "2021-04-20T09:32:43.382291Z"
    },
    "papermill": {
     "duration": 0.087363,
     "end_time": "2021-04-20T09:32:43.382991",
     "exception": false,
     "start_time": "2021-04-20T09:32:43.295628",
     "status": "completed"
    },
    "tags": []
   },
   "outputs": [
    {
     "data": {
      "text/plain": [
       "LinearRegression()"
      ]
     },
     "execution_count": 32,
     "metadata": {},
     "output_type": "execute_result"
    }
   ],
   "source": [
    "model_avocado_price = linear_model.LinearRegression()\n",
    "model_avocado_price.fit(x_train_poly, y_train)\n"
   ]
  },
  {
   "cell_type": "code",
   "execution_count": 33,
   "id": "checked-evolution",
   "metadata": {
    "execution": {
     "iopub.execute_input": "2021-04-20T09:32:43.491380Z",
     "iopub.status.busy": "2021-04-20T09:32:43.490342Z",
     "iopub.status.idle": "2021-04-20T09:32:43.507572Z",
     "shell.execute_reply": "2021-04-20T09:32:43.506568Z"
    },
    "papermill": {
     "duration": 0.073709,
     "end_time": "2021-04-20T09:32:43.507809",
     "exception": false,
     "start_time": "2021-04-20T09:32:43.434100",
     "status": "completed"
    },
    "tags": []
   },
   "outputs": [
    {
     "name": "stdout",
     "output_type": "stream",
     "text": [
      "The R-squared equals:\n"
     ]
    },
    {
     "data": {
      "text/plain": [
       "0.08302228122736255"
      ]
     },
     "execution_count": 33,
     "metadata": {},
     "output_type": "execute_result"
    }
   ],
   "source": [
    "#Model evaluation metric\n",
    "#R-squared using the test data\n",
    "r_squared_polynomial = model_avocado_price.score(x_test_poly, y_test)\n",
    "print(\"The R-squared equals:\")\n",
    "r_squared_polynomial"
   ]
  },
  {
   "cell_type": "code",
   "execution_count": 34,
   "id": "spare-romance",
   "metadata": {
    "execution": {
     "iopub.execute_input": "2021-04-20T09:32:43.668249Z",
     "iopub.status.busy": "2021-04-20T09:32:43.667594Z",
     "iopub.status.idle": "2021-04-20T09:32:43.700179Z",
     "shell.execute_reply": "2021-04-20T09:32:43.701189Z"
    },
    "papermill": {
     "duration": 0.092946,
     "end_time": "2021-04-20T09:32:43.701593",
     "exception": false,
     "start_time": "2021-04-20T09:32:43.608647",
     "status": "completed"
    },
    "tags": []
   },
   "outputs": [
    {
     "name": "stdout",
     "output_type": "stream",
     "text": [
      "                            OLS Regression Results                            \n",
      "==============================================================================\n",
      "Dep. Variable:           AveragePrice   R-squared:                       0.038\n",
      "Model:                            OLS   Adj. R-squared:                  0.038\n",
      "Method:                 Least Squares   F-statistic:                     509.7\n",
      "Date:                Tue, 20 Apr 2021   Prob (F-statistic):          1.09e-110\n",
      "Time:                        09:32:43   Log-Likelihood:                -6291.2\n",
      "No. Observations:               12774   AIC:                         1.259e+04\n",
      "Df Residuals:                   12772   BIC:                         1.260e+04\n",
      "Df Model:                           1                                         \n",
      "Covariance Type:            nonrobust                                         \n",
      "================================================================================\n",
      "                   coef    std err          t      P>|t|      [0.025      0.975]\n",
      "--------------------------------------------------------------------------------\n",
      "const            1.4279      0.004    395.312      0.000       1.421       1.435\n",
      "Total Volume -2.414e-08   1.07e-09    -22.576      0.000   -2.62e-08    -2.2e-08\n",
      "==============================================================================\n",
      "Omnibus:                      690.773   Durbin-Watson:                   1.999\n",
      "Prob(Omnibus):                  0.000   Jarque-Bera (JB):              810.569\n",
      "Skew:                           0.590   Prob(JB):                    9.71e-177\n",
      "Kurtosis:                       3.364   Cond. No.                     3.48e+06\n",
      "==============================================================================\n",
      "\n",
      "Notes:\n",
      "[1] Standard Errors assume that the covariance matrix of the errors is correctly specified.\n",
      "[2] The condition number is large, 3.48e+06. This might indicate that there are\n",
      "strong multicollinearity or other numerical problems.\n"
     ]
    }
   ],
   "source": [
    "#The Model\n",
    "# add a constant\n",
    "x2 = sm.add_constant(x_train)\n",
    "\n",
    "pg_stats_model = sm.OLS(y_train, x2)\n",
    "\n",
    "# fit the model\n",
    "results = pg_stats_model.fit()\n",
    "\n",
    "print(results.summary())"
   ]
  },
  {
   "cell_type": "markdown",
   "id": "finite-appeal",
   "metadata": {
    "papermill": {
     "duration": 0.055502,
     "end_time": "2021-04-20T09:32:43.855744",
     "exception": false,
     "start_time": "2021-04-20T09:32:43.800242",
     "status": "completed"
    },
    "tags": []
   },
   "source": [
    "The model is poorly estimated."
   ]
  },
  {
   "cell_type": "markdown",
   "id": "tribal-bristol",
   "metadata": {
    "papermill": {
     "duration": 0.052935,
     "end_time": "2021-04-20T09:32:43.961464",
     "exception": false,
     "start_time": "2021-04-20T09:32:43.908529",
     "status": "completed"
    },
    "tags": []
   },
   "source": [
    "**This is the end of this analysis.**"
   ]
  }
 ],
 "metadata": {
  "kernelspec": {
   "display_name": "Python 3",
   "language": "python",
   "name": "python3"
  },
  "language_info": {
   "codemirror_mode": {
    "name": "ipython",
    "version": 3
   },
   "file_extension": ".py",
   "mimetype": "text/x-python",
   "name": "python",
   "nbconvert_exporter": "python",
   "pygments_lexer": "ipython3",
   "version": "3.7.9"
  },
  "papermill": {
   "default_parameters": {},
   "duration": 32.459391,
   "end_time": "2021-04-20T09:32:44.724157",
   "environment_variables": {},
   "exception": null,
   "input_path": "__notebook__.ipynb",
   "output_path": "__notebook__.ipynb",
   "parameters": {},
   "start_time": "2021-04-20T09:32:12.264766",
   "version": "2.3.2"
  }
 },
 "nbformat": 4,
 "nbformat_minor": 5
}
